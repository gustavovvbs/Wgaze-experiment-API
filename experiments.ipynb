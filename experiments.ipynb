{
 "cells": [
  {
   "cell_type": "code",
   "execution_count": 1,
   "metadata": {},
   "outputs": [],
   "source": [
    "from comp_metric import *\n",
    "import os \n",
    "from pymongo import MongoClient\n",
    "from dotenv import load_dotenv\n",
    "import numpy as np\n",
    "import matplotlib.pyplot as plt\n",
    "\n",
    "load_dotenv()\n",
    "\n",
    "client = MongoClient(os.getenv('MONGO_URI'))\n",
    "db = client[\"wgaze\"]\n",
    "collection_name = 'batches'"
   ]
  },
  {
   "cell_type": "markdown",
   "metadata": {},
   "source": [
    "TESTANDO SEM SIMULAR O USUARIO OLHANDO PRA UMA TECLA ERRADA"
   ]
  },
  {
   "cell_type": "code",
   "execution_count": 2,
   "metadata": {},
   "outputs": [
    {
     "name": "stdout",
     "output_type": "stream",
     "text": [
      "Wasserstein distance for word \"block\", 0: 8.092940980490573\n",
      "Average Wasserstein distance for all words: 8.0929\n",
      "Standard deviation of Wasserstein distances for all words: 0.0000\n",
      "Wasserstein distance for word \"teste\", 1: 9.673663704609924\n",
      "Average Wasserstein distance for all words: 8.8833\n",
      "Standard deviation of Wasserstein distances for all words: 0.7904\n",
      "Wasserstein distance for word \"reputation\", 2: 11.862163179164597\n",
      "Average Wasserstein distance for all words: 9.8763\n",
      "Standard deviation of Wasserstein distances for all words: 1.5454\n",
      "Wasserstein distance for word \"primeiro\", 3: 9.971441277680372\n",
      "Average Wasserstein distance for all words: 9.9001\n",
      "Standard deviation of Wasserstein distances for all words: 1.3390\n",
      "Wasserstein distance for word \"clock\", 4: 7.059456058395503\n",
      "Average Wasserstein distance for all words: 9.3319\n",
      "Standard deviation of Wasserstein distances for all words: 1.6509\n",
      "Wasserstein distance for word \"reputation\", 5: 12.205306422865963\n",
      "Average Wasserstein distance for all words: 9.8108\n",
      "Standard deviation of Wasserstein distances for all words: 1.8488\n",
      "Wasserstein distance for word \"primeiro\", 6: 13.948955433010834\n",
      "Average Wasserstein distance for all words: 10.4020\n",
      "Standard deviation of Wasserstein distances for all words: 2.2420\n",
      "Wasserstein distance for word \"clock\", 7: 10.756602869407448\n",
      "Average Wasserstein distance for all words: 10.4463\n",
      "Standard deviation of Wasserstein distances for all words: 2.1005\n",
      "Wasserstein distance for word \"teste\", 8: 11.261926950845119\n",
      "Average Wasserstein distance for all words: 10.5369\n",
      "Standard deviation of Wasserstein distances for all words: 1.9968\n",
      "Wasserstein distance for word \"teste\", 9: 10.202184835299786\n",
      "Average Wasserstein distance for all words: 10.5035\n",
      "Standard deviation of Wasserstein distances for all words: 1.8970\n",
      "Wasserstein distance for word \"block\", 10: 10.018679985159498\n",
      "Average Wasserstein distance for all words: 10.4594\n",
      "Standard deviation of Wasserstein distances for all words: 1.8141\n",
      "Wasserstein distance for word \"clock\", 11: 9.461883005921928\n",
      "Average Wasserstein distance for all words: 10.3763\n",
      "Standard deviation of Wasserstein distances for all words: 1.7586\n",
      "Wasserstein distance for word \"chair\", 12: 9.80742699008511\n",
      "Average Wasserstein distance for all words: 10.3325\n",
      "Standard deviation of Wasserstein distances for all words: 1.6964\n",
      "Wasserstein distance for word \"block\", 13: 9.305859671110793\n",
      "Average Wasserstein distance for all words: 10.2592\n",
      "Standard deviation of Wasserstein distances for all words: 1.6560\n",
      "Wasserstein distance for word \"primeiro\", 14: 12.559704895223572\n",
      "Average Wasserstein distance for all words: 10.4125\n",
      "Standard deviation of Wasserstein distances for all words: 1.6996\n",
      "Wasserstein distance for word \"chair\", 15: 9.365446109783525\n",
      "Average Wasserstein distance for all words: 10.3471\n",
      "Standard deviation of Wasserstein distances for all words: 1.6650\n",
      "Wasserstein distance for word \"clock\", 16: 8.616806665692978\n",
      "Average Wasserstein distance for all words: 10.2453\n",
      "Standard deviation of Wasserstein distances for all words: 1.6658\n",
      "Wasserstein distance for word \"reputation\", 17: 10.623574058104198\n",
      "Average Wasserstein distance for all words: 10.2663\n",
      "Standard deviation of Wasserstein distances for all words: 1.6212\n",
      "Wasserstein distance for word \"clock\", 18: 10.581329956931437\n",
      "Average Wasserstein distance for all words: 10.2829\n",
      "Standard deviation of Wasserstein distances for all words: 1.5796\n",
      "Wasserstein distance for word \"teste\", 19: 12.941320255759628\n",
      "Average Wasserstein distance for all words: 10.4158\n",
      "Standard deviation of Wasserstein distances for all words: 1.6450\n"
     ]
    }
   ],
   "source": [
    "key_positions = prepare_key_positions()\n",
    "\n",
    "data = get_last_n_gestures(db, collection_name, n=20)\n",
    "\n",
    "generated_gestures = generated_n_gestures(data, key_positions, wrong_key_prob=0)\n",
    "\n",
    "gesture_data, distances_w = plot_generated_and_real_gestures(generated_gestures, data, key_positions)"
   ]
  },
  {
   "cell_type": "code",
   "execution_count": 6,
   "metadata": {},
   "outputs": [
    {
     "data": {
      "image/png": "[encoded data removed]",
      "text/plain": [
       "<Figure size 640x480 with 1 Axes>"
      ]
     },
     "metadata": {},
     "output_type": "display_data"
    }
   ],
   "source": [
    "plt.boxplot(distances_w)\n",
    "plt.show()"
   ]
  },
  {
   "cell_type": "markdown",
   "metadata": {},
   "source": [
    "SIMULANDO COM PROBABILIDADE DE OLHAR PRA TECLA ERRADA"
   ]
  },
  {
   "cell_type": "code",
   "execution_count": 8,
   "metadata": {},
   "outputs": [
    {
     "name": "stdout",
     "output_type": "stream",
     "text": [
      "Wasserstein distance for word \"block\", 0: 7.153336569397896\n",
      "Average Wasserstein distance for all words: 7.1533\n",
      "Standard deviation of Wasserstein distances for all words: 0.0000\n",
      "Wasserstein distance for word \"teste\", 1: 9.45460999150203\n",
      "Average Wasserstein distance for all words: 8.3040\n",
      "Standard deviation of Wasserstein distances for all words: 1.1506\n",
      "Wasserstein distance for word \"reputation\", 2: 12.536708546367372\n",
      "Average Wasserstein distance for all words: 9.7149\n",
      "Standard deviation of Wasserstein distances for all words: 2.2054\n",
      "Wasserstein distance for word \"primeiro\", 3: 11.822760730216194\n",
      "Average Wasserstein distance for all words: 10.2419\n",
      "Standard deviation of Wasserstein distances for all words: 2.1169\n",
      "Wasserstein distance for word \"clock\", 4: 8.793009888369033\n",
      "Average Wasserstein distance for all words: 9.9521\n",
      "Standard deviation of Wasserstein distances for all words: 1.9801\n",
      "Wasserstein distance for word \"reputation\", 5: 10.804813602502321\n",
      "Average Wasserstein distance for all words: 10.0942\n",
      "Standard deviation of Wasserstein distances for all words: 1.8353\n",
      "Wasserstein distance for word \"primeiro\", 6: 11.483058060949062\n",
      "Average Wasserstein distance for all words: 10.2926\n",
      "Standard deviation of Wasserstein distances for all words: 1.7673\n",
      "Wasserstein distance for word \"clock\", 7: 11.03310828206315\n",
      "Average Wasserstein distance for all words: 10.3852\n",
      "Standard deviation of Wasserstein distances for all words: 1.6712\n",
      "Wasserstein distance for word \"teste\", 8: 11.191121968055052\n",
      "Average Wasserstein distance for all words: 10.4747\n",
      "Standard deviation of Wasserstein distances for all words: 1.5958\n",
      "Wasserstein distance for word \"teste\", 9: 10.157646344034667\n",
      "Average Wasserstein distance for all words: 10.4430\n",
      "Standard deviation of Wasserstein distances for all words: 1.5169\n",
      "Wasserstein distance for word \"block\", 10: 10.804392655968003\n",
      "Average Wasserstein distance for all words: 10.4759\n",
      "Standard deviation of Wasserstein distances for all words: 1.4501\n",
      "Wasserstein distance for word \"clock\", 11: 10.003765066385075\n",
      "Average Wasserstein distance for all words: 10.4365\n",
      "Standard deviation of Wasserstein distances for all words: 1.3944\n",
      "Wasserstein distance for word \"chair\", 12: 10.120504137104\n",
      "Average Wasserstein distance for all words: 10.4122\n",
      "Standard deviation of Wasserstein distances for all words: 1.3424\n",
      "Wasserstein distance for word \"block\", 13: 10.09231560447831\n",
      "Average Wasserstein distance for all words: 10.3894\n",
      "Standard deviation of Wasserstein distances for all words: 1.2962\n",
      "Wasserstein distance for word \"primeiro\", 14: 11.338596357272738\n",
      "Average Wasserstein distance for all words: 10.4526\n",
      "Standard deviation of Wasserstein distances for all words: 1.2744\n",
      "Wasserstein distance for word \"chair\", 15: 9.023783050598476\n",
      "Average Wasserstein distance for all words: 10.3633\n",
      "Standard deviation of Wasserstein distances for all words: 1.2815\n",
      "Wasserstein distance for word \"clock\", 16: 9.052372477530065\n",
      "Average Wasserstein distance for all words: 10.2862\n",
      "Standard deviation of Wasserstein distances for all words: 1.2809\n",
      "Wasserstein distance for word \"reputation\", 17: 11.160834027556163\n",
      "Average Wasserstein distance for all words: 10.3348\n",
      "Standard deviation of Wasserstein distances for all words: 1.2609\n",
      "Wasserstein distance for word \"clock\", 18: 10.333826904482546\n",
      "Average Wasserstein distance for all words: 10.3348\n",
      "Standard deviation of Wasserstein distances for all words: 1.2272\n",
      "Wasserstein distance for word \"teste\", 19: 13.086438780655769\n",
      "Average Wasserstein distance for all words: 10.4724\n",
      "Standard deviation of Wasserstein distances for all words: 1.3381\n"
     ]
    }
   ],
   "source": [
    "key_positions = prepare_key_positions()\n",
    "\n",
    "data = get_last_n_gestures(db, collection_name, n=20)\n",
    "\n",
    "generated_gestures = generated_n_gestures(data, key_positions, wrong_key_prob=0.2)\n",
    "\n",
    "gesture_data, distances_w = plot_generated_and_real_gestures(generated_gestures, data, key_positions)"
   ]
  },
  {
   "cell_type": "code",
   "execution_count": 9,
   "metadata": {},
   "outputs": [
    {
     "data": {
      "image/png": "[encoded data removed]",
      "text/plain": [
       "<Figure size 640x480 with 1 Axes>"
      ]
     },
     "metadata": {},
     "output_type": "display_data"
    }
   ],
   "source": [
    "plt.boxplot(distances_w)\n",
    "plt.show()"
   ]
  },
  {
   "cell_type": "code",
   "execution_count": null,
   "metadata": {},
   "outputs": [],
   "source": []
  }
 ],
 "metadata": {
  "kernelspec": {
   "display_name": ".venv",
   "language": "python",
   "name": "python3"
  },
  "language_info": {
   "codemirror_mode": {
    "name": "ipython",
    "version": 3
   },
   "file_extension": ".py",
   "mimetype": "text/x-python",
   "name": "python",
   "nbconvert_exporter": "python",
   "pygments_lexer": "ipython3",
   "version": "3.11.8"
  }
 },
 "nbformat": 4,
 "nbformat_minor": 2
}
